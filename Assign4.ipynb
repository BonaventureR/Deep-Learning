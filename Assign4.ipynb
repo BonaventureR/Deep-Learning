{
 "cells": [
  {
   "cell_type": "markdown",
   "metadata": {},
   "source": [
    "# Deep Learning"
   ]
  },
  {
   "cell_type": "markdown",
   "metadata": {},
   "source": [
    "<font color=\"blue\"> Bonaventure Raj </font>"
   ]
  },
  {
   "cell_type": "markdown",
   "metadata": {},
   "source": [
    "# I. Overview\n",
    "\n",
    "In this project I seek to test different deep neural network models with a dataset found on UCI Irvine Machine Learning Respository. The dataset uses different attributes to predict the evaluation of a car at selling time. This classification based dataset has multiple forms of data, all of which are plain/text classifications. I intend to describe the state of data, convert the data into working forms of train/test validation sets, and then pass it into the model. Finally I will evaluate the accuracy of the model based on certain neural network structures."
   ]
  },
  {
   "cell_type": "markdown",
   "metadata": {},
   "source": [
    "# II. Data"
   ]
  },
  {
   "cell_type": "code",
   "execution_count": 1,
   "metadata": {},
   "outputs": [],
   "source": [
    "import scipy as sp\n",
    "import numpy as np\n",
    "import matplotlib as mpl\n",
    "import matplotlib.pyplot as plt\n",
    "import pandas as pd\n",
    "import tensorflow as tf"
   ]
  },
  {
   "cell_type": "code",
   "execution_count": 2,
   "metadata": {
    "scrolled": true
   },
   "outputs": [
    {
     "name": "stdout",
     "output_type": "stream",
     "text": [
      "1. Title: Car Evaluation Database\r\n",
      "\r\n",
      "2. Sources:\r\n",
      "   (a) Creator: Marko Bohanec\r\n",
      "   (b) Donors: Marko Bohanec   (marko.bohanec@ijs.si)\r\n",
      "               Blaz Zupan      (blaz.zupan@ijs.si)\r\n",
      "   (c) Date: June, 1997\r\n",
      "\r\n",
      "3. Past Usage:\r\n",
      "\r\n",
      "   The hierarchical decision model, from which this dataset is\r\n",
      "   derived, was first presented in \r\n",
      "\r\n",
      "   M. Bohanec and V. Rajkovic: Knowledge acquisition and explanation for\r\n",
      "   multi-attribute decision making. In 8th Intl Workshop on Expert\r\n",
      "   Systems and their Applications, Avignon, France. pages 59-78, 1988.\r\n",
      "\r\n",
      "   Within machine-learning, this dataset was used for the evaluation\r\n",
      "   of HINT (Hierarchy INduction Tool), which was proved to be able to\r\n",
      "   completely reconstruct the original hierarchical model. This,\r\n",
      "   together with a comparison with C4.5, is presented in\r\n",
      "\r\n",
      "   B. Zupan, M. Bohanec, I. Bratko, J. Demsar: Machine learning by\r\n",
      "   function decomposition. ICML-97, Nashville, TN. 1997 (to appear)\r\n",
      "\r\n",
      "4. Relevant Information Paragraph:\r\n",
      "\r\n",
      "   Car Evaluation Database was derived from a simple hierarchical\r\n",
      "   decision model originally developed for the demonstration of DEX\r\n",
      "   (M. Bohanec, V. Rajkovic: Expert system for decision\r\n",
      "   making. Sistemica 1(1), pp. 145-157, 1990.). The model evaluates\r\n",
      "   cars according to the following concept structure:\r\n",
      "\r\n",
      "   CAR                      car acceptability\r\n",
      "   . PRICE                  overall price\r\n",
      "   . . buying               buying price\r\n",
      "   . . maint                price of the maintenance\r\n",
      "   . TECH                   technical characteristics\r\n",
      "   . . COMFORT              comfort\r\n",
      "   . . . doors              number of doors\r\n",
      "   . . . persons            capacity in terms of persons to carry\r\n",
      "   . . . lug_boot           the size of luggage boot\r\n",
      "   . . safety               estimated safety of the car\r\n",
      "\r\n",
      "   Input attributes are printed in lowercase. Besides the target\r\n",
      "   concept (CAR), the model includes three intermediate concepts:\r\n",
      "   PRICE, TECH, COMFORT. Every concept is in the original model\r\n",
      "   related to its lower level descendants by a set of examples (for\r\n",
      "   these examples sets see http://www-ai.ijs.si/BlazZupan/car.html).\r\n",
      "\r\n",
      "   The Car Evaluation Database contains examples with the structural\r\n",
      "   information removed, i.e., directly relates CAR to the six input\r\n",
      "   attributes: buying, maint, doors, persons, lug_boot, safety.\r\n",
      "\r\n",
      "   Because of known underlying concept structure, this database may be\r\n",
      "   particularly useful for testing constructive induction and\r\n",
      "   structure discovery methods.\r\n",
      "\r\n",
      "5. Number of Instances: 1728\r\n",
      "   (instances completely cover the attribute space)\r\n",
      "\r\n",
      "6. Number of Attributes: 6\r\n",
      "\r\n",
      "7. Attribute Values:\r\n",
      "\r\n",
      "   buying       v-high, high, med, low\r\n",
      "   maint        v-high, high, med, low\r\n",
      "   doors        2, 3, 4, 5-more\r\n",
      "   persons      2, 4, more\r\n",
      "   lug_boot     small, med, big\r\n",
      "   safety       low, med, high\r\n",
      "\r\n",
      "8. Missing Attribute Values: none\r\n",
      "\r\n",
      "9. Class Distribution (number of instances per class)\r\n",
      "\r\n",
      "   class      N          N[%]\r\n",
      "   -----------------------------\r\n",
      "   unacc     1210     (70.023 %) \r\n",
      "   acc        384     (22.222 %) \r\n",
      "   good        69     ( 3.993 %) \r\n",
      "   v-good      65     ( 3.762 %) \r\n"
     ]
    }
   ],
   "source": [
    "!cat car.names"
   ]
  },
  {
   "cell_type": "markdown",
   "metadata": {},
   "source": [
    "<h6> Data </h6>\n",
    "\n",
    "> From reading the documentation for the data we see the different attributes that the data has and the corresponding values. We see that there are [buying, maint, doors, persons, lug_boots, safety] for the predictor variables and [evaluation] as the target. Below I encompass the data within a dataframe and plot the values for some visualization of trends."
   ]
  },
  {
   "cell_type": "code",
   "execution_count": 3,
   "metadata": {},
   "outputs": [],
   "source": [
    "data = [line.replace(\"\\n\", \"\").split(\",\") for line in open('car.data').readlines()]"
   ]
  },
  {
   "cell_type": "code",
   "execution_count": 4,
   "metadata": {},
   "outputs": [
    {
     "data": {
      "text/html": [
       "<div>\n",
       "<style scoped>\n",
       "    .dataframe tbody tr th:only-of-type {\n",
       "        vertical-align: middle;\n",
       "    }\n",
       "\n",
       "    .dataframe tbody tr th {\n",
       "        vertical-align: top;\n",
       "    }\n",
       "\n",
       "    .dataframe thead th {\n",
       "        text-align: right;\n",
       "    }\n",
       "</style>\n",
       "<table border=\"1\" class=\"dataframe\">\n",
       "  <thead>\n",
       "    <tr style=\"text-align: right;\">\n",
       "      <th></th>\n",
       "      <th>buying</th>\n",
       "      <th>maint</th>\n",
       "      <th>doors</th>\n",
       "      <th>persons</th>\n",
       "      <th>lug_boot</th>\n",
       "      <th>safety</th>\n",
       "      <th>evaluation</th>\n",
       "    </tr>\n",
       "  </thead>\n",
       "  <tbody>\n",
       "    <tr>\n",
       "      <td>0</td>\n",
       "      <td>vhigh</td>\n",
       "      <td>vhigh</td>\n",
       "      <td>2</td>\n",
       "      <td>2</td>\n",
       "      <td>small</td>\n",
       "      <td>low</td>\n",
       "      <td>unacc</td>\n",
       "    </tr>\n",
       "    <tr>\n",
       "      <td>1</td>\n",
       "      <td>vhigh</td>\n",
       "      <td>vhigh</td>\n",
       "      <td>2</td>\n",
       "      <td>2</td>\n",
       "      <td>small</td>\n",
       "      <td>med</td>\n",
       "      <td>unacc</td>\n",
       "    </tr>\n",
       "    <tr>\n",
       "      <td>2</td>\n",
       "      <td>vhigh</td>\n",
       "      <td>vhigh</td>\n",
       "      <td>2</td>\n",
       "      <td>2</td>\n",
       "      <td>small</td>\n",
       "      <td>high</td>\n",
       "      <td>unacc</td>\n",
       "    </tr>\n",
       "    <tr>\n",
       "      <td>3</td>\n",
       "      <td>vhigh</td>\n",
       "      <td>vhigh</td>\n",
       "      <td>2</td>\n",
       "      <td>2</td>\n",
       "      <td>med</td>\n",
       "      <td>low</td>\n",
       "      <td>unacc</td>\n",
       "    </tr>\n",
       "    <tr>\n",
       "      <td>4</td>\n",
       "      <td>vhigh</td>\n",
       "      <td>vhigh</td>\n",
       "      <td>2</td>\n",
       "      <td>2</td>\n",
       "      <td>med</td>\n",
       "      <td>med</td>\n",
       "      <td>unacc</td>\n",
       "    </tr>\n",
       "    <tr>\n",
       "      <td>...</td>\n",
       "      <td>...</td>\n",
       "      <td>...</td>\n",
       "      <td>...</td>\n",
       "      <td>...</td>\n",
       "      <td>...</td>\n",
       "      <td>...</td>\n",
       "      <td>...</td>\n",
       "    </tr>\n",
       "    <tr>\n",
       "      <td>1723</td>\n",
       "      <td>low</td>\n",
       "      <td>low</td>\n",
       "      <td>5more</td>\n",
       "      <td>more</td>\n",
       "      <td>med</td>\n",
       "      <td>med</td>\n",
       "      <td>good</td>\n",
       "    </tr>\n",
       "    <tr>\n",
       "      <td>1724</td>\n",
       "      <td>low</td>\n",
       "      <td>low</td>\n",
       "      <td>5more</td>\n",
       "      <td>more</td>\n",
       "      <td>med</td>\n",
       "      <td>high</td>\n",
       "      <td>vgood</td>\n",
       "    </tr>\n",
       "    <tr>\n",
       "      <td>1725</td>\n",
       "      <td>low</td>\n",
       "      <td>low</td>\n",
       "      <td>5more</td>\n",
       "      <td>more</td>\n",
       "      <td>big</td>\n",
       "      <td>low</td>\n",
       "      <td>unacc</td>\n",
       "    </tr>\n",
       "    <tr>\n",
       "      <td>1726</td>\n",
       "      <td>low</td>\n",
       "      <td>low</td>\n",
       "      <td>5more</td>\n",
       "      <td>more</td>\n",
       "      <td>big</td>\n",
       "      <td>med</td>\n",
       "      <td>good</td>\n",
       "    </tr>\n",
       "    <tr>\n",
       "      <td>1727</td>\n",
       "      <td>low</td>\n",
       "      <td>low</td>\n",
       "      <td>5more</td>\n",
       "      <td>more</td>\n",
       "      <td>big</td>\n",
       "      <td>high</td>\n",
       "      <td>vgood</td>\n",
       "    </tr>\n",
       "  </tbody>\n",
       "</table>\n",
       "<p>1728 rows × 7 columns</p>\n",
       "</div>"
      ],
      "text/plain": [
       "     buying  maint  doors persons lug_boot safety evaluation\n",
       "0     vhigh  vhigh      2       2    small    low      unacc\n",
       "1     vhigh  vhigh      2       2    small    med      unacc\n",
       "2     vhigh  vhigh      2       2    small   high      unacc\n",
       "3     vhigh  vhigh      2       2      med    low      unacc\n",
       "4     vhigh  vhigh      2       2      med    med      unacc\n",
       "...     ...    ...    ...     ...      ...    ...        ...\n",
       "1723    low    low  5more    more      med    med       good\n",
       "1724    low    low  5more    more      med   high      vgood\n",
       "1725    low    low  5more    more      big    low      unacc\n",
       "1726    low    low  5more    more      big    med       good\n",
       "1727    low    low  5more    more      big   high      vgood\n",
       "\n",
       "[1728 rows x 7 columns]"
      ]
     },
     "execution_count": 4,
     "metadata": {},
     "output_type": "execute_result"
    }
   ],
   "source": [
    "df = pd.DataFrame(data, columns=['buying', 'maint', 'doors', 'persons', 'lug_boot', 'safety','evaluation'])\n",
    "df"
   ]
  },
  {
   "cell_type": "code",
   "execution_count": 5,
   "metadata": {
    "scrolled": true
   },
   "outputs": [
    {
     "data": {
      "text/plain": [
       "<matplotlib.axes._subplots.AxesSubplot at 0x7efbe8a9da90>"
      ]
     },
     "execution_count": 5,
     "metadata": {},
     "output_type": "execute_result"
    },
    {
     "data": {
      "image/png": "[encoded data removed]",
      "text/plain": [
       "<Figure size 1728x1728 with 4 Axes>"
      ]
     },
     "metadata": {
      "needs_background": "light"
     },
     "output_type": "display_data"
    }
   ],
   "source": [
    "fig, (ax1,ax2,ax3,ax4) = plt.subplots(4,1, figsize=(24,24))\n",
    "df['buying'].value_counts().plot(kind='barh', ax=ax1)\n",
    "df['maint'].value_counts().plot(kind='barh', ax=ax2)\n",
    "df['doors'].value_counts().plot(kind='barh', ax=ax3)\n",
    "df['evaluation'].value_counts().plot(kind='barh', ax=ax4)"
   ]
  },
  {
   "cell_type": "markdown",
   "metadata": {},
   "source": [
    "<h6> Graphs explanation </h6>\n",
    "\n",
    "> Above is plotted 4 of the 6 attributes in the dataset. The bar graphs clearly represent an equality within almost all attributes but differences within the target attribute `evaluation`."
   ]
  },
  {
   "cell_type": "code",
   "execution_count": 6,
   "metadata": {},
   "outputs": [
    {
     "name": "stdout",
     "output_type": "stream",
     "text": [
      "buying ['vhigh' 'high' 'med' 'low']\n",
      "maint ['vhigh' 'high' 'med' 'low']\n",
      "doors ['2' '3' '4' '5more']\n",
      "persons ['2' '4' 'more']\n",
      "lug_boot ['small' 'med' 'big']\n",
      "safety ['low' 'med' 'high']\n",
      "evaluation ['unacc' 'acc' 'vgood' 'good']\n"
     ]
    }
   ],
   "source": [
    "for col in df.columns:\n",
    "    print(col, df[col].unique())"
   ]
  },
  {
   "cell_type": "code",
   "execution_count": 7,
   "metadata": {},
   "outputs": [],
   "source": [
    "d = []\n",
    "conv_buying = {'low' : 0, 'med' : 1, 'high' : 2, 'vhigh' : 3}\n",
    "conv_maint = {'low' : 0, 'med' : 1, 'high' : 2, 'vhigh' : 3}\n",
    "conv_doors = {'2' : 2, '3' : 3, '4' : 4, '5more' : 5}\n",
    "conv_persons = {'2':2, '4':4, 'more' : 5}\n",
    "conv_lug_boot={'small' : 0, 'med' : 1, 'big' : 3}\n",
    "conv_safety = {'low' : 0, 'med':1 , 'high':2}\n",
    "conv_evaluation={'unacc' : 0, 'acc' : 1, 'vgood': 1, 'good' : 2}\n",
    "\n",
    "df = df.replace(({\"buying\":conv_buying, \"maint\":conv_maint, \"doors\":conv_doors, \"persons\":conv_persons, \"lug_boot\":conv_lug_boot, \"safety\":conv_safety, \"evaluation\":conv_evaluation}))"
   ]
  },
  {
   "cell_type": "markdown",
   "metadata": {},
   "source": [
    "<h6> Mapping the target set back to get predictions </h6>\n",
    "\n",
    "> We have mapped all the attributes to certain values as well as the targets. However, when we make a prediction we want to be able to get the actual evaluation. We want to make a converter to convert the values back."
   ]
  },
  {
   "cell_type": "code",
   "execution_count": 8,
   "metadata": {},
   "outputs": [
    {
     "data": {
      "text/plain": [
       "{0: 'unacc', 1: 'vgood', 2: 'good'}"
      ]
     },
     "execution_count": 8,
     "metadata": {},
     "output_type": "execute_result"
    }
   ],
   "source": [
    "conv_back = {v:k for k,v in conv_evaluation.items()}\n",
    "conv_back"
   ]
  },
  {
   "cell_type": "code",
   "execution_count": 9,
   "metadata": {},
   "outputs": [
    {
     "name": "stdout",
     "output_type": "stream",
     "text": [
      "buying [3 2 1 0]\n",
      "maint [3 2 1 0]\n",
      "doors [2 3 4 5]\n",
      "persons [2 4 5]\n",
      "lug_boot [0 1 3]\n",
      "safety [0 1 2]\n",
      "evaluation [0 1 2]\n"
     ]
    }
   ],
   "source": [
    "for col in df.columns:\n",
    "    print(col, df[col].unique())\n",
    "n = df.shape[0]"
   ]
  },
  {
   "cell_type": "markdown",
   "metadata": {},
   "source": [
    "<h6> Splitting the data </h6>\n",
    "\n",
    "> Now that we have converted the dataset into values which can be interpreted, we can work with partitioning the data into training and testing sets."
   ]
  },
  {
   "cell_type": "code",
   "execution_count": 10,
   "metadata": {},
   "outputs": [],
   "source": [
    "from sklearn.model_selection import train_test_split"
   ]
  },
  {
   "cell_type": "code",
   "execution_count": 11,
   "metadata": {},
   "outputs": [
    {
     "data": {
      "text/plain": [
       "((1728, 6), (1728, 1))"
      ]
     },
     "execution_count": 11,
     "metadata": {},
     "output_type": "execute_result"
    }
   ],
   "source": [
    "X, y = df.iloc[:, :-1].values , df.iloc[:, -1].values.reshape(n, 1)\n",
    "X.shape, y.shape"
   ]
  },
  {
   "cell_type": "code",
   "execution_count": 12,
   "metadata": {},
   "outputs": [],
   "source": [
    "X_train, X_test , y_train, y_test = train_test_split(X, y, test_size=0.2)"
   ]
  },
  {
   "cell_type": "code",
   "execution_count": 13,
   "metadata": {},
   "outputs": [
    {
     "name": "stdout",
     "output_type": "stream",
     "text": [
      "X_train is shape: (1382, 6)\n",
      "y_train is shape: (1382, 1)\n",
      "X_test is shape: (346, 6)\n",
      "y_test is shape: (346, 1)\n"
     ]
    }
   ],
   "source": [
    "print('{} is shape: {}'.format('X_train', X_train.shape))\n",
    "print('{} is shape: {}'.format('y_train', y_train.shape))\n",
    "print('{} is shape: {}'.format('X_test', X_test.shape))\n",
    "print('{} is shape: {}'.format('y_test', y_test.shape))"
   ]
  },
  {
   "cell_type": "code",
   "execution_count": 102,
   "metadata": {},
   "outputs": [],
   "source": [
    "Ntrain, Ntest = X_train.shape[0], X_test.shape[0] \n",
    "n_attrib = X_train.shape[1]\n",
    "labels = len(conv_back)"
   ]
  },
  {
   "cell_type": "code",
   "execution_count": 103,
   "metadata": {},
   "outputs": [
    {
     "data": {
      "text/plain": [
       "(1382, 346, 3)"
      ]
     },
     "execution_count": 103,
     "metadata": {},
     "output_type": "execute_result"
    }
   ],
   "source": [
    "Ntrain, Ntest, labels"
   ]
  },
  {
   "cell_type": "code",
   "execution_count": 16,
   "metadata": {},
   "outputs": [],
   "source": [
    "comparisons = []"
   ]
  },
  {
   "cell_type": "markdown",
   "metadata": {},
   "source": [
    "# Model Structures\n",
    "\n",
    "Brief Explanations & Introductions \n",
    "\n",
    "<h3> Non-Linear Activation Functions </h3>\n",
    "\n",
    "An activation function is used to determine the output (usually by ranges) of preceptrons within hidden layers in a Neural Network. It acts as a Transfer Function depicting whether the neuron should activate or not. \n",
    "\n",
    "<h6> Sigmoid </h6>\n",
    "\n",
    "Sigmoid curve looks like an S using the formula:<br><br> $$ f(x) = \\frac{1}{1+e^{-x}} $$ <br> the graph of which creates an output between the range of 0 and 1. The range of 0 and 1 maps directly as a probability distribution for selection of the pass through. When backpropogation occurs and loss is calculated {see loss section below}, sigmoid causes a major problem. The log loss faces the problem of over-saturation and the potential to kill the gradient. This is due to the multiplication between low local gradients produced from negative probability mappings to very low probabilities. This leads to the vanishing gradient problem which may keep the network from learning. ReLU seeks to address the vanishing gradient problem. Additionally, another problem that this faces is that the output of this function is not zero-centered.TanH addresses this the non-zero centered mean issue.\n",
    "\n",
    "<h6> Tan(h) or hyperbolic tangent </h6>\n",
    "\n",
    "Tanh is similar to logistic sigmoid but maps the range between -1 and 1 for all $\\mathbb{R}$. <br><br>\n",
    "$$ f(y) = \\tan(h) $$ <br> However, due to the ranges being -1 to 1- the output is zero centered. Unfortunately, tanh struggles with the vanishing gradient problem similar to the Sigmoid function.\n",
    "\n",
    "<h6> ReLu or Rectified Linear Unit</h6>\n",
    "\n",
    "ReLu tackles the notorious vanishing gradient problem but avoiding negative outputs by simply finding the max between <br><br> $$f(x) = max(0, x)$$. <br> The range of outputs produced via ReLu are from $[0 - inf)$ which means the activation function can potentially be a very large number. ReLu also makes the network a lot lighter due to less activations between layers - sparse activation. However, it is important to note that ReLu only solves the problem of saturation through the positive region. As mentioned above, large gradient flows can cause the weights to update in ushc a way that the neuron will never activate on any datapoint again. This also takes into consideration what the learning rate is- can be solved with this. Additionally, can be solved with Leaky ReLu.\n",
    "\n",
    "<h6> Leaky ReLu </h6>\n",
    "\n",
    "Leaky ReLu attempts to solve the problem of dying ReLu. Instead of making the ReLU activation be a choice between (0 and max number) it adds a small negative slope when x < 0. <br><br> $$ f(x) = 1(x<0)(\\alpha x) + 1 (x >= 0)(x) $$ <br> This is not always consistent. Each slope in negative regions can also be made into a parameter of each Neuron introduced in Delving Deep into Rectifiers by Kaiming He et al.,2015. May not always work.\n",
    "\n",
    "<h6> Maxout </h6>\n",
    "\n",
    "Generalizes ReLU and its leaky version. Maxout computes the function <br><br> $$ max(w{^T}{_x} + b{_1}, w{^T}{_x} + b{_1})$$ <br>\n",
    "The maxout neuron has all the benefits of ReLU unit (no saturation and linear operation time) and does not have the dying ReLU problem. However, it doubles its parameters for every neuron leading increased numbers of parameters.\n",
    "\n",
    "<h6> Softmax </h6>\n",
    "\n",
    "Softmax calculates similarily to sigmoid function in that it is a probability ranging from 0 to 1. However, each output in a classification based set of outputs will be represented instead of a mapping. This means that each possible output will have a probability assigned to the prediction the Machine Learning model makes.\n",
    "\n",
    "<h3> Number of Layers </h3>\n",
    "\n",
    "Determining the number of hidden units and number of layers are a difficult task that compares from systematically testing with certain model requirements. Usually having a larger number of hidden units/layers allows to predict more complex dependencies within the dataset. On the other hand, too many may lead to overfitting the problem for that specific dataset.\n",
    "\n",
    "<h3> Loss Function </h3>\n",
    "\n",
    "Deep Learning Models use backpropogation as a means to optomize or lessen the errors/loss that is derived from the weights utilized in that iterative forward pass. This cost or loss function is an important feature that allows the model to learn better decisions and find local minimums in prediction errors. Below are listed the types of loss functions for the corresponding domain it optimizes. For the purposes of this dataset, I will be only explaining Multi-Class Classification Loss Functions because that is how this dataset is represented.  \n",
    "\n",
    "<h6> Regression Loss Functions </h6>\n",
    "\n",
    "<li>Mean Squared Error Loss</li>\n",
    "<li>Mean Squared Logarithmic Error Loss</li>\n",
    "<li>Mean Absolute Error Loss</li>\n",
    "\n",
    "<h6> Binary Classification Loss Functions </h6>\n",
    "\n",
    "<li>Binary Cross-Entropy</li>\n",
    "<li>Hinge Loss</li>\n",
    "<li>Squared Hinge Loss</li>\n",
    "\n",
    "<h6> Multi-Class Classification Loss Functions </h6>\n",
    "\n",
    "<li>Categorical Cross Entropy Loss</li>\n",
    "\n",
    "Used with the softmax function, quantifying the distance between the output label and the original label from a probability distribution.<br><br> $$H(y,p) = - \\sum \\limits_{i} y_ilog(p_i)$$\n",
    "\n",
    "<li>Sparse Categorical Cross-Entropy Loss</li>\n",
    "\n",
    "Used with many labels to predictions, acts similarly to categorical cross entropy loss. The only difference between categorical cross entropy and its sparse counterpart is the format of true labels.\n",
    "\n",
    "<li>Kullback Leibler Divergence Loss</li>\n",
    "\n",
    "Similar to our formula from entropy, however, KLD allows us to achieve compression and optimal encoding. Allowing us to quantify how much information is lost when we substitute our observed distribution for an approximation. <br><br>$$D_{KL}(p||q) = E[log(p(x) - log(q(x))]$$\n",
    "\n",
    "<h3> Optimizers </h3>\n",
    "\n",
    "Optimizers allow for tweaking of the loss function so that the loss approximation knows whether it is moving in the right direction or not. By adding a small $\\alpha$ scalar gradient that is adaptable, the model is able to control the rate at which is finds its loss function. One crucial portion to optimizers is that we don't want the model to get stuck at saddle points (or local mimimums). That is where the adaptable scalar gradient (learning rate) $\\alpha$ is important. It allows us to move down the gradient slowly so that it can find the minimum, but adapt if it gets stuck at a local minimum to jump out of it. Common optimizers:\n",
    "\n",
    "<li>Adadelta</li>\n",
    "Adaptable learning rate.\n",
    "<li>Adagrad</li>\n",
    "Frequency of parameters being updated -> more updates == smaller learning rate.\n",
    "<li>RMSprops</li>\n",
    "Root mean squared -> average of the square of gradients divided by root of average.\n",
    "<li>Adam</li>\n",
    "SGD based on adaptive learning of first and second order moments.\n",
    "<li>Nadam</li>\n",
    "RMSprops with momentum.\n",
    "<li>SGD</li>\n",
    "Based on updating weights off static learning_rate * gradients.\n",
    "\n",
    "More listed <a href=\"https://www.tensorflow.org/api_docs/python/tf/keras/optimizers\">here</a>\n",
    "\n",
    "**Note**: initializers allow for the weights to be initialized in a manner that allows for optimal training of weights in conjunction with the loss function and optimizer. \n",
    "\n",
    "<h3> Model Choices </h3>\n",
    "\n",
    "I intend to use this dataset only as a practice for activations, hidden units, and optimizers. The initializer for all 3 model structures will be he_normal due to the dataset being deviated similarly in all attributes. All models will only be 5 layers deep. All models will use softmax as the output function. Lastly, the number of epochs or repetitions that the model will be training on are set to a static 15.\n",
    "\n",
    "<h6> Model Structure 1 </h6>\n",
    "This layer uses 12 hidden units for each of the layers as a baseline to test divergence performance. I will use Adam for the optimizer with a loss function of cross-entropy-loss. Uses relu as the activation function.\n",
    "    \n",
    "<h6> Model Structure 2 </h6>\n",
    "This layer uses 24 hidden units for each of the layers as a baseline to test divergence performance. I will use Adagrad for the optimizer with a loss function of cross-entropy-loss. This is to test the adaptive learning rate to individual features, so that some features learn at a different rate than others. Uses relu as the activation function.\n",
    "\n",
    "<h6> Model Structure 3 </h6>\n",
    "\n",
    "This layer uses 24,24,24,24,12 hidden units for each layer as a baseline to test divergence performance. I will use SGD for the optimizer with a loss function of cross-entropy-loss. I want to test SGD to see how the data performance with static learning rates given 0 momentum and decay. The default for tensorflows initializer for SGD is lr = 0.1, momentum=0.0, decay=0.0, nesterov=False. Furthermore, I want to try out leaky_relu (however, I do not think that this will be beneficial for this dataset as the distribution is low) chances of incorrect predictions and negative values are lower.\n",
    "\n",
    "\n",
    "Below I make the models using tf.sequential models which are comprised of Dense layers (holding n-hidden units and activation function). The last layer has the number of labels and uses the softmax function to estimate the probability distribution for each label. "
   ]
  },
  {
   "cell_type": "code",
   "execution_count": 120,
   "metadata": {},
   "outputs": [],
   "source": [
    "# Structure 1\n",
    "# simple logistic 1 layer\n",
    "structure_1 = tf.keras.models.Sequential([\n",
    "    tf.keras.Input(shape=(n_attrib,)),\n",
    "    tf.keras.layers.Dense(units=12, activation='relu'),\n",
    "    tf.keras.layers.Dense(units=12, activation='relu'),\n",
    "    tf.keras.layers.Dense(units=12, activation='relu'),\n",
    "    tf.keras.layers.Dense(units=12, activation='relu'),\n",
    "    tf.keras.layers.Dense(units=labels, activation='softmax')\n",
    "])\n",
    "\n",
    "# Structure 2\n",
    "structure_2 = tf.keras.models.Sequential([\n",
    "    tf.keras.Input(shape=(n_attrib,)),\n",
    "    tf.keras.layers.Dense(units=24, activation='relu'),\n",
    "    tf.keras.layers.Dense(units=24, activation='relu'),\n",
    "    tf.keras.layers.Dense(units=24, activation='relu'),\n",
    "    tf.keras.layers.Dense(units=24, activation='relu'),\n",
    "    tf.keras.layers.Dense(units=labels, activation='softmax')\n",
    "])\n",
    "\n",
    "# Structure 3\n",
    "structure_3 = tf.keras.models.Sequential([\n",
    "    tf.keras.Input(shape=(n_attrib,)),\n",
    "    tf.keras.layers.Dense(units=24, activation=tf.nn.leaky_relu),\n",
    "    tf.keras.layers.Dense(units=24, activation=tf.nn.leaky_relu),\n",
    "    tf.keras.layers.Dense(units=24, activation=tf.nn.leaky_relu),\n",
    "    tf.keras.layers.Dense(units=12, activation=tf.nn.leaky_relu),\n",
    "    tf.keras.layers.Dense(units=labels, activation='softmax')\n",
    "])"
   ]
  },
  {
   "cell_type": "code",
   "execution_count": 121,
   "metadata": {},
   "outputs": [
    {
     "name": "stdout",
     "output_type": "stream",
     "text": [
      "Model: \"sequential_29\"\n",
      "_________________________________________________________________\n",
      "Layer (type)                 Output Shape              Param #   \n",
      "=================================================================\n",
      "dense_131 (Dense)            (None, 12)                84        \n",
      "_________________________________________________________________\n",
      "dense_132 (Dense)            (None, 12)                156       \n",
      "_________________________________________________________________\n",
      "dense_133 (Dense)            (None, 12)                156       \n",
      "_________________________________________________________________\n",
      "dense_134 (Dense)            (None, 12)                156       \n",
      "_________________________________________________________________\n",
      "dense_135 (Dense)            (None, 3)                 39        \n",
      "=================================================================\n",
      "Total params: 591\n",
      "Trainable params: 591\n",
      "Non-trainable params: 0\n",
      "_________________________________________________________________\n"
     ]
    }
   ],
   "source": [
    "structure_1.summary()"
   ]
  },
  {
   "cell_type": "code",
   "execution_count": 122,
   "metadata": {},
   "outputs": [
    {
     "name": "stdout",
     "output_type": "stream",
     "text": [
      "Model: \"sequential_30\"\n",
      "_________________________________________________________________\n",
      "Layer (type)                 Output Shape              Param #   \n",
      "=================================================================\n",
      "dense_136 (Dense)            (None, 24)                168       \n",
      "_________________________________________________________________\n",
      "dense_137 (Dense)            (None, 24)                600       \n",
      "_________________________________________________________________\n",
      "dense_138 (Dense)            (None, 24)                600       \n",
      "_________________________________________________________________\n",
      "dense_139 (Dense)            (None, 24)                600       \n",
      "_________________________________________________________________\n",
      "dense_140 (Dense)            (None, 3)                 75        \n",
      "=================================================================\n",
      "Total params: 2,043\n",
      "Trainable params: 2,043\n",
      "Non-trainable params: 0\n",
      "_________________________________________________________________\n"
     ]
    }
   ],
   "source": [
    "structure_2.summary()"
   ]
  },
  {
   "cell_type": "code",
   "execution_count": 123,
   "metadata": {},
   "outputs": [
    {
     "name": "stdout",
     "output_type": "stream",
     "text": [
      "Model: \"sequential_31\"\n",
      "_________________________________________________________________\n",
      "Layer (type)                 Output Shape              Param #   \n",
      "=================================================================\n",
      "dense_141 (Dense)            (None, 24)                168       \n",
      "_________________________________________________________________\n",
      "dense_142 (Dense)            (None, 24)                600       \n",
      "_________________________________________________________________\n",
      "dense_143 (Dense)            (None, 24)                600       \n",
      "_________________________________________________________________\n",
      "dense_144 (Dense)            (None, 12)                300       \n",
      "_________________________________________________________________\n",
      "dense_145 (Dense)            (None, 3)                 39        \n",
      "=================================================================\n",
      "Total params: 1,707\n",
      "Trainable params: 1,707\n",
      "Non-trainable params: 0\n",
      "_________________________________________________________________\n"
     ]
    }
   ],
   "source": [
    "structure_3.summary()"
   ]
  },
  {
   "cell_type": "code",
   "execution_count": 124,
   "metadata": {},
   "outputs": [],
   "source": [
    "structure_1.compile(loss='sparse_categorical_crossentropy', optimizer=\"adam\", initializer='he_uniform', metrics=['accuracy'])"
   ]
  },
  {
   "cell_type": "code",
   "execution_count": 125,
   "metadata": {},
   "outputs": [],
   "source": [
    "structure_2.compile(loss='sparse_categorical_crossentropy', optimizer=\"adagrad\", initializer='he_uniform', metrics=['accuracy'])"
   ]
  },
  {
   "cell_type": "code",
   "execution_count": 126,
   "metadata": {},
   "outputs": [],
   "source": [
    "structure_3.compile(loss='sparse_categorical_crossentropy', optimizer=\"sgd\", initializer='he_uniform', metrics=['accuracy'])"
   ]
  },
  {
   "cell_type": "code",
   "execution_count": 127,
   "metadata": {
    "scrolled": true
   },
   "outputs": [
    {
     "name": "stdout",
     "output_type": "stream",
     "text": [
      "Train on 1105 samples, validate on 277 samples\n",
      "Epoch 1/15\n",
      "1105/1105 [==============================] - 0s 348us/sample - loss: 0.9425 - accuracy: 0.7059 - val_loss: 0.8017 - val_accuracy: 0.7076\n",
      "Epoch 2/15\n",
      "1105/1105 [==============================] - 0s 105us/sample - loss: 0.7584 - accuracy: 0.7059 - val_loss: 0.6978 - val_accuracy: 0.7076\n",
      "Epoch 3/15\n",
      "1105/1105 [==============================] - 0s 93us/sample - loss: 0.6754 - accuracy: 0.7059 - val_loss: 0.6321 - val_accuracy: 0.7076\n",
      "Epoch 4/15\n",
      "1105/1105 [==============================] - 0s 103us/sample - loss: 0.6149 - accuracy: 0.7077 - val_loss: 0.5674 - val_accuracy: 0.7076\n",
      "Epoch 5/15\n",
      "1105/1105 [==============================] - 0s 99us/sample - loss: 0.5550 - accuracy: 0.7167 - val_loss: 0.5071 - val_accuracy: 0.7329\n",
      "Epoch 6/15\n",
      "1105/1105 [==============================] - 0s 99us/sample - loss: 0.5079 - accuracy: 0.7873 - val_loss: 0.4511 - val_accuracy: 0.8051\n",
      "Epoch 7/15\n",
      "1105/1105 [==============================] - 0s 93us/sample - loss: 0.4604 - accuracy: 0.8136 - val_loss: 0.4019 - val_accuracy: 0.8628\n",
      "Epoch 8/15\n",
      "1105/1105 [==============================] - 0s 87us/sample - loss: 0.4205 - accuracy: 0.8281 - val_loss: 0.3582 - val_accuracy: 0.8773\n",
      "Epoch 9/15\n",
      "1105/1105 [==============================] - 0s 91us/sample - loss: 0.3790 - accuracy: 0.8362 - val_loss: 0.3204 - val_accuracy: 0.8845\n",
      "Epoch 10/15\n",
      "1105/1105 [==============================] - 0s 90us/sample - loss: 0.3423 - accuracy: 0.8516 - val_loss: 0.2876 - val_accuracy: 0.9025\n",
      "Epoch 11/15\n",
      "1105/1105 [==============================] - 0s 85us/sample - loss: 0.3114 - accuracy: 0.8643 - val_loss: 0.2644 - val_accuracy: 0.9025\n",
      "Epoch 12/15\n",
      "1105/1105 [==============================] - 0s 84us/sample - loss: 0.2847 - accuracy: 0.8751 - val_loss: 0.2415 - val_accuracy: 0.9206\n",
      "Epoch 13/15\n",
      "1105/1105 [==============================] - 0s 96us/sample - loss: 0.2641 - accuracy: 0.8842 - val_loss: 0.2370 - val_accuracy: 0.9025\n",
      "Epoch 14/15\n",
      "1105/1105 [==============================] - 0s 88us/sample - loss: 0.2521 - accuracy: 0.8914 - val_loss: 0.2149 - val_accuracy: 0.9170\n",
      "Epoch 15/15\n",
      "1105/1105 [==============================] - 0s 95us/sample - loss: 0.2343 - accuracy: 0.8950 - val_loss: 0.1917 - val_accuracy: 0.9242\n"
     ]
    }
   ],
   "source": [
    "history_1 = structure_1.fit(X_train, y_train, epochs=15, validation_split=0.2)"
   ]
  },
  {
   "cell_type": "code",
   "execution_count": 128,
   "metadata": {},
   "outputs": [
    {
     "name": "stdout",
     "output_type": "stream",
     "text": [
      "Train on 1105 samples, validate on 277 samples\n",
      "Epoch 1/15\n",
      "1105/1105 [==============================] - 1s 464us/sample - loss: 0.9343 - accuracy: 0.6751 - val_loss: 0.8638 - val_accuracy: 0.7004\n",
      "Epoch 2/15\n",
      "1105/1105 [==============================] - 0s 104us/sample - loss: 0.8366 - accuracy: 0.7059 - val_loss: 0.7956 - val_accuracy: 0.7076\n",
      "Epoch 3/15\n",
      "1105/1105 [==============================] - 0s 103us/sample - loss: 0.7844 - accuracy: 0.7041 - val_loss: 0.7559 - val_accuracy: 0.7040\n",
      "Epoch 4/15\n",
      "1105/1105 [==============================] - 0s 98us/sample - loss: 0.7524 - accuracy: 0.7050 - val_loss: 0.7301 - val_accuracy: 0.7040\n",
      "Epoch 5/15\n",
      "1105/1105 [==============================] - 0s 104us/sample - loss: 0.7307 - accuracy: 0.7050 - val_loss: 0.7123 - val_accuracy: 0.7040\n",
      "Epoch 6/15\n",
      "1105/1105 [==============================] - 0s 98us/sample - loss: 0.7146 - accuracy: 0.7050 - val_loss: 0.6980 - val_accuracy: 0.7040\n",
      "Epoch 7/15\n",
      "1105/1105 [==============================] - 0s 96us/sample - loss: 0.7015 - accuracy: 0.7050 - val_loss: 0.6859 - val_accuracy: 0.7040\n",
      "Epoch 8/15\n",
      "1105/1105 [==============================] - 0s 121us/sample - loss: 0.6903 - accuracy: 0.7068 - val_loss: 0.6756 - val_accuracy: 0.7040\n",
      "Epoch 9/15\n",
      "1105/1105 [==============================] - 0s 155us/sample - loss: 0.6807 - accuracy: 0.7068 - val_loss: 0.6664 - val_accuracy: 0.7112\n",
      "Epoch 10/15\n",
      "1105/1105 [==============================] - 0s 103us/sample - loss: 0.6720 - accuracy: 0.7059 - val_loss: 0.6582 - val_accuracy: 0.7076\n",
      "Epoch 11/15\n",
      "1105/1105 [==============================] - 0s 115us/sample - loss: 0.6643 - accuracy: 0.7095 - val_loss: 0.6506 - val_accuracy: 0.7112\n",
      "Epoch 12/15\n",
      "1105/1105 [==============================] - 0s 146us/sample - loss: 0.6569 - accuracy: 0.7104 - val_loss: 0.6436 - val_accuracy: 0.7148\n",
      "Epoch 13/15\n",
      "1105/1105 [==============================] - 0s 123us/sample - loss: 0.6500 - accuracy: 0.7113 - val_loss: 0.6371 - val_accuracy: 0.7220\n",
      "Epoch 14/15\n",
      "1105/1105 [==============================] - 0s 103us/sample - loss: 0.6434 - accuracy: 0.7140 - val_loss: 0.6308 - val_accuracy: 0.7292\n",
      "Epoch 15/15\n",
      "1105/1105 [==============================] - 0s 87us/sample - loss: 0.6370 - accuracy: 0.7122 - val_loss: 0.6248 - val_accuracy: 0.7292\n"
     ]
    }
   ],
   "source": [
    "history_2 = structure_2.fit(X_train, y_train, epochs=15, validation_split=0.2)"
   ]
  },
  {
   "cell_type": "code",
   "execution_count": 129,
   "metadata": {},
   "outputs": [
    {
     "name": "stdout",
     "output_type": "stream",
     "text": [
      "Train on 1105 samples, validate on 277 samples\n",
      "Epoch 1/15\n",
      "1105/1105 [==============================] - 1s 577us/sample - loss: 0.9159 - accuracy: 0.5855 - val_loss: 0.7829 - val_accuracy: 0.7076\n",
      "Epoch 2/15\n",
      "1105/1105 [==============================] - 0s 91us/sample - loss: 0.7439 - accuracy: 0.7059 - val_loss: 0.7343 - val_accuracy: 0.7076\n",
      "Epoch 3/15\n",
      "1105/1105 [==============================] - 0s 147us/sample - loss: 0.7042 - accuracy: 0.7059 - val_loss: 0.7011 - val_accuracy: 0.7076\n",
      "Epoch 4/15\n",
      "1105/1105 [==============================] - 0s 109us/sample - loss: 0.6744 - accuracy: 0.7059 - val_loss: 0.6705 - val_accuracy: 0.7076\n",
      "Epoch 5/15\n",
      "1105/1105 [==============================] - 0s 88us/sample - loss: 0.6451 - accuracy: 0.7059 - val_loss: 0.6401 - val_accuracy: 0.7076\n",
      "Epoch 6/15\n",
      "1105/1105 [==============================] - 0s 76us/sample - loss: 0.6162 - accuracy: 0.7068 - val_loss: 0.6094 - val_accuracy: 0.7076\n",
      "Epoch 7/15\n",
      "1105/1105 [==============================] - 0s 105us/sample - loss: 0.5861 - accuracy: 0.7303 - val_loss: 0.5819 - val_accuracy: 0.7617\n",
      "Epoch 8/15\n",
      "1105/1105 [==============================] - 0s 86us/sample - loss: 0.5580 - accuracy: 0.7629 - val_loss: 0.5475 - val_accuracy: 0.7653\n",
      "Epoch 9/15\n",
      "1105/1105 [==============================] - 0s 167us/sample - loss: 0.5308 - accuracy: 0.7882 - val_loss: 0.5163 - val_accuracy: 0.7942\n",
      "Epoch 10/15\n",
      "1105/1105 [==============================] - 0s 131us/sample - loss: 0.5043 - accuracy: 0.8072 - val_loss: 0.4856 - val_accuracy: 0.8159\n",
      "Epoch 11/15\n",
      "1105/1105 [==============================] - 0s 86us/sample - loss: 0.4798 - accuracy: 0.8190 - val_loss: 0.4594 - val_accuracy: 0.8051\n",
      "Epoch 12/15\n",
      "1105/1105 [==============================] - 0s 91us/sample - loss: 0.4574 - accuracy: 0.8235 - val_loss: 0.4383 - val_accuracy: 0.8231\n",
      "Epoch 13/15\n",
      "1105/1105 [==============================] - 0s 82us/sample - loss: 0.4410 - accuracy: 0.8299 - val_loss: 0.4185 - val_accuracy: 0.8628\n",
      "Epoch 14/15\n",
      "1105/1105 [==============================] - 0s 87us/sample - loss: 0.4258 - accuracy: 0.8389 - val_loss: 0.4163 - val_accuracy: 0.8520\n",
      "Epoch 15/15\n",
      "1105/1105 [==============================] - 0s 87us/sample - loss: 0.4142 - accuracy: 0.8398 - val_loss: 0.3848 - val_accuracy: 0.8628\n"
     ]
    }
   ],
   "source": [
    "history_3 = structure_3.fit(X_train, y_train, epochs=15, validation_split=0.2)"
   ]
  },
  {
   "cell_type": "markdown",
   "metadata": {},
   "source": [
    "# Results"
   ]
  },
  {
   "cell_type": "markdown",
   "metadata": {},
   "source": [
    "<h6> Plots </h6>\n",
    "\n",
    "> The plots indicate that the rate at which model 1 learned was much steeper than the others. This may mean that the model learned quicker on this data using adam as the initializer compared to the other 2."
   ]
  },
  {
   "cell_type": "code",
   "execution_count": 143,
   "metadata": {},
   "outputs": [
    {
     "data": {
      "text/plain": [
       "Text(0.5, 1.0, 'Loss Per Epoch')"
      ]
     },
     "execution_count": 143,
     "metadata": {},
     "output_type": "execute_result"
    },
    {
     "data": {
      "image/png": "[encoded data removed]",
      "text/plain": [
       "<Figure size 432x288 with 1 Axes>"
      ]
     },
     "metadata": {
      "needs_background": "light"
     },
     "output_type": "display_data"
    }
   ],
   "source": [
    "plt.plot(history_1.history['loss'], label=\"model 1\")\n",
    "plt.plot(history_2.history['loss'], label=\"model 2\")\n",
    "plt.plot(history_3.history['loss'], label=\"model 3\")\n",
    "plt.xlabel(\"# iterations\")\n",
    "plt.ylabel(\"loss\")\n",
    "plt.legend()\n",
    "plt.title(\"Loss Per Epoch\")"
   ]
  },
  {
   "cell_type": "markdown",
   "metadata": {},
   "source": [
    "<h6> Evaluations </h6>\n",
    "\n",
    "> Below are the evaluations on the validation sets. Below are the loss value & accuracy metric values for the model with the test data. The evaluation scores for model 1 were better than the metrics for the other two values on the test set. "
   ]
  },
  {
   "cell_type": "code",
   "execution_count": 145,
   "metadata": {
    "collapsed": true
   },
   "outputs": [
    {
     "name": "stdout",
     "output_type": "stream",
     "text": [
      "\r",
      "346/1 [============================================================================================================================================================================================================================================================================================================================================================================================================================================================================================================================================================================================================================================================================================================================================================================================================================================================================================================================================================================================================================================================================================================================================================================================================================================================================================================================================================================================================================================================================================================================================================================================================================================================================================================================================================================================================================================================================================================================================================================================================================================================================================================================================================================================================================================================================================================================================================================================================================================================================================================================================================================================================================================================================================================================================================================================================================================================================================================================================================================================================================================================================================================================================================================================================================================================================================================================================================================================================================================================================================================================================================================================================================================================================================================================================================================================================================================================================================================================================================================================================================================================================================================================================================================================================================================================================================================================================================================================================================================================================================================================================================================================================================================================================================================================================================================================================================================================================================================================================================================================================================================================================================================================================================================================================================================================================================================================================================================================================================================================================================================================================================================================================================================================================================================================================================================================================================================================================================================================================================================================================================================================================================================================================================================================================================================================================================================================================================================================================================================================================================================================================================================================================================================================================================================================================================================================================================================================================================================================================================================================================================================================================================================================================================================================================================================================================================================================================================================================================================================================================================================================================================================================================================================================================================================================================================================================================================================================================================================================================================================================================================================================================================================================================================================================================================================================================================================================================================================================================================================================================================================================================================================================================================================================================================================================================================================================================================================================================================================================================================================================================================================================================================================================================================================================================================================================================================================================================================================================================================================================================================================================================================================================================================================================================================================================================================================================================================================================================================================================================================================================================================================================================================================================================================================================================================================================================================================================================================================================================================================================================================================================================================================================================================================================================================================================================================================================================] - 0s 67us/sample - loss: 0.2922 - accuracy: 0.8931\n"
     ]
    },
    {
     "name": "stdout",
     "output_type": "stream",
     "text": [
      "\r",
      "346/1 [============================================================================================================================================================================================================================================================================================================================================================================================================================================================================================================================================================================================================================================================================================================================================================================================================================================================================================================================================================================================================================================================================================================================================================================================================================================================================================================================================================================================================================================================================================================================================================================================================================================================================================================================================================================================================================================================================================================================================================================================================================================================================================================================================================================================================================================================================================================================================================================================================================================================================================================================================================================================================================================================================================================================================================================================================================================================================================================================================================================================================================================================================================================================================================================================================================================================================================================================================================================================================================================================================================================================================================================================================================================================================================================================================================================================================================================================================================================================================================================================================================================================================================================================================================================================================================================================================================================================================================================================================================================================================================================================================================================================================================================================================================================================================================================================================================================================================================================================================================================================================================================================================================================================================================================================================================================================================================================================================================================================================================================================================================================================================================================================================================================================================================================================================================================================================================================================================================================================================================================================================================================================================================================================================================================================================================================================================================================================================================================================================================================================================================================================================================================================================================================================================================================================================================================================================================================================================================================================================================================================================================================================================================================================================================================================================================================================================================================================================================================================================================================================================================================================================================================================================================================================================================================================================================================================================================================================================================================================================================================================================================================================================================================================================================================================================================================================================================================================================================================================================================================================================================================================================================================================================================================================================================================================================================================================================================================================================================================================================================================================================================================================================================================================================================================================================================================================================================================================================================================================================================================================================================================================================================================================================================================================================================================================================================================================================================================================================================================================================================================================================================================================================================================================================================================================================================================================================================================================================================================================================================================================================================================================================================================================================================================================================================================================================================================================================] - 0s 52us/sample - loss: 0.6210 - accuracy: 0.7052\n"
     ]
    },
    {
     "name": "stdout",
     "output_type": "stream",
     "text": [
      "\r",
      "346/1 [============================================================================================================================================================================================================================================================================================================================================================================================================================================================================================================================================================================================================================================================================================================================================================================================================================================================================================================================================================================================================================================================================================================================================================================================================================================================================================================================================================================================================================================================================================================================================================================================================================================================================================================================================================================================================================================================================================================================================================================================================================================================================================================================================================================================================================================================================================================================================================================================================================================================================================================================================================================================================================================================================================================================================================================================================================================================================================================================================================================================================================================================================================================================================================================================================================================================================================================================================================================================================================================================================================================================================================================================================================================================================================================================================================================================================================================================================================================================================================================================================================================================================================================================================================================================================================================================================================================================================================================================================================================================================================================================================================================================================================================================================================================================================================================================================================================================================================================================================================================================================================================================================================================================================================================================================================================================================================================================================================================================================================================================================================================================================================================================================================================================================================================================================================================================================================================================================================================================================================================================================================================================================================================================================================================================================================================================================================================================================================================================================================================================================================================================================================================================================================================================================================================================================================================================================================================================================================================================================================================================================================================================================================================================================================================================================================================================================================================================================================================================================================================================================================================================================================================================================================================================================================================================================================================================================================================================================================================================================================================================================================================================================================================================================================================================================================================================================================================================================================================================================================================================================================================================================================================================================================================================================================================================================================================================================================================================================================================================================================================================================================================================================================================================================================================================================================================================================================================================================================================================================================================================================================================================================================================================================================================================================================================================================================================================================================================================================================================================================================================================================================================================================================================================================================================================================================================================================================================================================================================================================================================================================================================================================================================================================================================================================================================================================================================================================] - 0s 67us/sample - loss: 0.4646 - accuracy: 0.8324\n"
     ]
    }
   ],
   "source": [
    "score1 = structure_1.evaluate(X_test, y_test)\n",
    "score2 = structure_2.evaluate(X_test, y_test)\n",
    "score3 = structure_3.evaluate(X_test, y_test)"
   ]
  },
  {
   "cell_type": "code",
   "execution_count": 146,
   "metadata": {},
   "outputs": [
    {
     "data": {
      "text/plain": [
       "([0.26570011098260826, 0.8930636],\n",
       " [0.661059229704686, 0.70520234],\n",
       " [0.4360750253834476, 0.8323699])"
      ]
     },
     "execution_count": 146,
     "metadata": {},
     "output_type": "execute_result"
    }
   ],
   "source": [
    "score1, score2, score3"
   ]
  },
  {
   "cell_type": "markdown",
   "metadata": {},
   "source": [
    "The code snippet below is just to show the softmax probability distributions. Using argmax we can find the index of prediction and see the prediction it makes on the test dataset."
   ]
  },
  {
   "cell_type": "code",
   "execution_count": 66,
   "metadata": {},
   "outputs": [
    {
     "name": "stdout",
     "output_type": "stream",
     "text": [
      "[[5.4134621e-04 9.9945360e-01 4.9569458e-06]\n",
      " [9.9999952e-01 4.7662934e-07 2.4680751e-14]\n",
      " [9.9961483e-01 3.8516775e-04 2.1907691e-14]\n",
      " ...\n",
      " [9.9998534e-01 1.4716581e-05 1.0210854e-09]\n",
      " [3.1986700e-03 9.8750478e-01 9.2965374e-03]\n",
      " [9.9999881e-01 1.1467621e-06 7.9472144e-11]]\n",
      "346\n"
     ]
    },
    {
     "data": {
      "text/plain": [
       "array([1, 0, 0, 1, 0, 2, 1, 0, 2, 1, 0, 0, 0, 0, 1, 0, 1, 0, 0, 0, 0, 0,\n",
       "       0, 0, 0, 0, 0, 0, 1, 1, 0, 0, 0, 2, 1, 0, 0, 0, 0, 1, 1, 2, 0, 0,\n",
       "       0, 0, 0, 1, 0, 1, 0, 0, 0, 0, 1, 0, 0, 1, 0, 1, 0, 0, 0, 1, 0, 0,\n",
       "       0, 0, 0, 0, 0, 0, 0, 1, 0, 0, 0, 0, 2, 1, 0, 0, 0, 0, 0, 1, 0, 0,\n",
       "       1, 0, 1, 0, 0, 0, 0, 0, 1, 1, 2, 0, 0, 0, 2, 0, 1, 0, 0, 0, 0, 1,\n",
       "       1, 0, 0, 0, 1, 0, 2, 0, 0, 0, 1, 0, 0, 0, 0, 0, 0, 0, 0, 0, 0, 1,\n",
       "       0, 0, 1, 1, 1, 0, 0, 0, 2, 1, 1, 0, 0, 0, 0, 2, 0, 0, 0, 1, 0, 1,\n",
       "       0, 0, 2, 0, 0, 1, 1, 1, 0, 0, 0, 0, 1, 0, 0, 0, 0, 0, 2, 0, 0, 0,\n",
       "       0, 1, 0, 0, 1, 1, 1, 1, 1, 0, 1, 1, 2, 0, 1, 0, 0, 1, 0, 0, 0, 0,\n",
       "       1, 0, 1, 0, 0, 1, 0, 1, 0, 0, 0, 1, 0, 0, 0, 1, 0, 0, 0, 0, 1, 0,\n",
       "       0, 0, 1, 0, 0, 1, 0, 1, 1, 0, 0, 0, 1, 0, 0, 1, 0, 0, 0, 0, 0, 1,\n",
       "       0, 0, 0, 0, 0, 0, 0, 1, 0, 1, 0, 0, 0, 1, 0, 1, 0, 1, 0, 1, 0, 0,\n",
       "       0, 1, 0, 0, 0, 1, 1, 0, 2, 0, 1, 0, 0, 0, 0, 0, 0, 0, 1, 0, 0, 0,\n",
       "       0, 0, 0, 0, 0, 0, 0, 2, 0, 2, 0, 1, 1, 0, 0, 0, 0, 0, 0, 1, 2, 0,\n",
       "       0, 0, 0, 1, 1, 0, 0, 0, 1, 0, 0, 2, 0, 1, 0, 1, 1, 1, 0, 2, 0, 1,\n",
       "       0, 0, 0, 1, 0, 0, 2, 0, 1, 0, 0, 0, 0, 0, 1, 0])"
      ]
     },
     "execution_count": 66,
     "metadata": {},
     "output_type": "execute_result"
    }
   ],
   "source": [
    "Ytest_probs = structure_1.predict(X_test)\n",
    "Ytest_preds = np.argmax(Ytest_probs, axis=1)\n",
    "Ytest_preds"
   ]
  }
 ],
 "metadata": {
  "kernelspec": {
   "display_name": "Python 3",
   "language": "python",
   "name": "python3"
  },
  "language_info": {
   "codemirror_mode": {
    "name": "ipython",
    "version": 3
   },
   "file_extension": ".py",
   "mimetype": "text/x-python",
   "name": "python",
   "nbconvert_exporter": "python",
   "pygments_lexer": "ipython3",
   "version": "3.7.4"
  }
 },
 "nbformat": 4,
 "nbformat_minor": 2
}
